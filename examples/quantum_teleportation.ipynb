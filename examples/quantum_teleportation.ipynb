{
 "cells": [
  {
   "cell_type": "markdown",
   "metadata": {},
   "source": [
    "# Quantum Teleportation\n",
    "The quantum teleportation protocol was first proposed in [1]. Suppose Alice has the state $\\vert \\psi \\rangle$ and is trying to send $\\vert \\psi \\rangle$ to Bob. The no cloning theorem [2] says that $\\vert \\psi \\rangle$ cannot be sent via copying. The proposed quantum teleportation algorithm serves to \"teleport\" $\\vert \\psi \\rangle$ from Alice to Bob, meaning that Alice's copy is destroyed when $\\vert \\psi \\rangle$ has been sent to Bob. Destroy here means the destruction of information, not the physical qubit.\n",
    "\n",
    "This jupyter notebook explains in greater detail the implementation in teleport.py. In the quantum teleportation protocol, there are three qubits involved:\n",
    "1. Qubit $\\psi$ held by Alice, to be transmitted to Bob\n",
    "2. Alice's working qubit $b_1$\n",
    "3. Bob's qubit $b_2$, which will hold the teleported $\\psi$\n",
    "\n",
    "The steps involved in the quantum teleportation protocol are as follow: \n",
    "1. Entangle Alice's $b_1$ with Bob's $b_2$, creating a bell pair\n",
    "2. Apply CNOT (conditional NOT) on $b_1$, with $\\psi$ as the controlling bit\n",
    "3. Put $\\psi$ into superposition using the Hadamard operator\n",
    "4. Alice measures $\\psi$ and $b_1$. The measured results are transmitted via classical channels to Bob\n",
    "5. Depending on the measured results received, Bob will choose to do none/one/both of the X and Z unitary operations on $b_2$\n",
    "\n",
    "Bob's $b_2$ now holds the teleported state $\\psi$"
   ]
  },
  {
   "cell_type": "code",
   "execution_count": 1,
   "metadata": {},
   "outputs": [],
   "source": [
    "import projectq\n",
    "from projectq.backends import CircuitDrawer\n",
    "from projectq.ops import H, Rz, CNOT, X, Z, Measure\n",
    "from projectq.meta import Dagger, Control\n",
    "\n",
    "from pathlib import Path"
   ]
  },
  {
   "cell_type": "markdown",
   "metadata": {},
   "source": [
    "## The following two functions are lifted from teleport.py\n",
    "The create_state() function sets up the $\\psi$ state. In the function, $b_1$ and $b_2$ are created and initialized to $\\vert 0 \\rangle$. After the H | b1 operation, $b_1 = \\frac{1}{\\sqrt{2}} \\left( \\vert 0 \\rangle + \\vert 1 \\rangle \\right)$. After the CNOT | (b1, b2) operation, b1 and b2 becomes the entangled Bell pair $\\frac{1}{\\sqrt{2}} \\left( \\vert 00 \\rangle + \\vert 11 \\rangle \\right)$"
   ]
  },
  {
   "cell_type": "code",
   "execution_count": 2,
   "metadata": {},
   "outputs": [],
   "source": [
    "# define our state-creation routine, which transforms a |0> to the state\n",
    "# we would like to send. Bob can then try to uncompute it and, if he\n",
    "# arrives back at |0>, we know that the teleportation worked.\n",
    "def create_state(eng, qb):\n",
    "    H | qb\n",
    "    Rz(1.21) | qb\n",
    "    \n",
    "def create_bell_pair(eng):\n",
    "    \"\"\"\n",
    "    Returns a Bell-pair (two qubits in state :math:`|A\\rangle \\otimes |B\n",
    "    \\rangle = \\frac 1{\\sqrt 2} \\left( |0\\rangle\\otimes|0\\rangle + |1\\rangle\n",
    "    \\otimes|1\\rangle \\right)`).\n",
    "\n",
    "    Args:\n",
    "        eng (MainEngine): MainEngine from which to allocate the qubits.\n",
    "\n",
    "    Returns:\n",
    "        bell_pair (tuple<Qubits>): The Bell-pair.\n",
    "    \"\"\"\n",
    "    b1 = eng.allocate_qubit()\n",
    "    b2 = eng.allocate_qubit()\n",
    "\n",
    "    H | b1\n",
    "    CNOT | (b1, b2)\n",
    "\n",
    "    return b1, b2"
   ]
  },
  {
   "cell_type": "code",
   "execution_count": 3,
   "metadata": {},
   "outputs": [],
   "source": [
    "def make_teleportation_circuit(eng, verbose=True):\n",
    "    # Step 1: make a Bell-pair\n",
    "    b1, b2 = create_bell_pair(eng) \n",
    "    \n",
    "    # Alice creates a nice state to send\n",
    "    psi = eng.allocate_qubit()\n",
    "    if verbose:\n",
    "        print(\"Alice is creating her state from scratch, i.e., |0>.\")\n",
    "    create_state(eng, psi)    \n",
    "    \n",
    "    # Implements step 2 of the protocol\n",
    "    CNOT | (psi, b1)\n",
    "    if verbose:\n",
    "        print(\"Alice entangled her qubit with her share of the Bell-pair.\")\n",
    "\n",
    "    # Step 3 of the protocol, putting psi into superposition\n",
    "    H | psi    \n",
    "    \n",
    "    # Step 4 of the protocol: measure psi and b1, whose outcomes\n",
    "    # which will be communicated via classical channels to Bob\n",
    "    Measure | psi\n",
    "    Measure | b1    \n",
    "    \n",
    "    msg_to_bob = [int(psi), int(b1)]\n",
    "    if verbose:\n",
    "        print(\"Alice is sending the message {} to Bob.\".format(msg_to_bob)) \n",
    "\n",
    "    # Sstep 5 of the protocol. After receiving the measured results, \n",
    "    # Bob will proceed to apply the necessary operations\n",
    "    with Control(eng, b1):\n",
    "        X | b2\n",
    "    with Control(eng, psi):\n",
    "        Z | b2  \n",
    "\n",
    "    # Now Bob's b2 holds the psi state\n",
    "    return psi, b1, b2"
   ]
  },
  {
   "cell_type": "markdown",
   "metadata": {},
   "source": [
    "## Visualize the quantum teleportation circuit\n",
    "Contains the same circuit drawing function as teleport_circuit.py. Additional code serves to draw the circuit in jupyter notebook"
   ]
  },
  {
   "cell_type": "code",
   "execution_count": 4,
   "metadata": {},
   "outputs": [
    {
     "data": {
      "image/png": "[encoded data removed]",
      "text/plain": [
       "<wand.image.Image: 8ad855a 'PDF' (457x212)>"
      ]
     },
     "execution_count": 4,
     "metadata": {},
     "output_type": "execute_result"
    }
   ],
   "source": [
    "drawing_engine = CircuitDrawer()\n",
    "locations = {0: 1, 1: 2, 2: 0}\n",
    "drawing_engine.set_qubit_locations(locations)\n",
    "eng = projectq.MainEngine(drawing_engine)\n",
    "ψ, b1, b2 = make_teleportation_circuit(eng, False)\n",
    "eng.flush()\n",
    "\n",
    "p = Path('diagram')\n",
    "if not p.exists(): #if the diagram directory doesn't exist, create it\n",
    "    p.mkdir()\n",
    "with open('diagram/teleport.tex', 'w') as f:\n",
    "    latex = drawing_engine.get_latex() #get circuit diagram as latex\n",
    "    f.write(latex) \n",
    "#Change the pdf scale to 1.8 from 0.8 to have better visual effect\n",
    "!sed -i 's@tikzpicture\\}\\[scale=0.8@tikzpicture\\}\\[scale=2.8@g' diagram/teleport.tex\n",
    "!cd diagram; pdflatex teleport.tex  > /dev/null #convert tex to latex, piping to /dev/null to silent output      \n",
    "\n",
    "#Wand package needed to convert pdf to image\n",
    "from wand.image import Image as WImage\n",
    "img = WImage(filename='diagram/teleport.pdf')\n",
    "img"
   ]
  },
  {
   "cell_type": "code",
   "execution_count": 5,
   "metadata": {},
   "outputs": [],
   "source": [
    "#Uncompute b2 so that b2 returns to a computational state and can be safely deleted, \n",
    "#otherwise an error will be thrown\n",
    "with Dagger(eng):\n",
    "    create_state(eng, b2)\n",
    "del b2\n",
    "eng.flush() "
   ]
  },
  {
   "cell_type": "markdown",
   "metadata": {},
   "source": [
    "## Run the quantum teleportation circuit"
   ]
  },
  {
   "cell_type": "code",
   "execution_count": 6,
   "metadata": {},
   "outputs": [
    {
     "name": "stdout",
     "output_type": "stream",
     "text": [
      "Alice is creating her state from scratch, i.e., |0>.\n",
      "Alice entangled her qubit with her share of the Bell-pair.\n",
      "Alice is sending the message [0, 0] to Bob.\n"
     ]
    }
   ],
   "source": [
    "main_eng = projectq.MainEngine()\n",
    "ψ, b1, b2 = make_teleportation_circuit(eng)\n",
    "\n",
    "#Verify that psi has indeed been teleported to b2\n",
    "with Dagger(eng):\n",
    "    create_state(eng, b2)\n",
    "del b2\n",
    "eng.flush() "
   ]
  },
  {
   "cell_type": "markdown",
   "metadata": {},
   "source": [
    "Note that after getting $\\psi, b_1, b_2$ from calling make_teleportation_circuit(eng), we still need to verify that $b_2$ is in the teleported state $\\psi$. Using ProjectQ's Dagger construct, we uncompute $b_2$ by reversing the create state operation. If the teleportation is successful, then the uncompute operation should return $b_2$ to its original $\\vert 0 \\rangle$ state. Therefore deleting $b_2$ should go smoothly. If the teleportation is unsuccessful, then the supposed uncompute operation will not return $b_2$ to its original $\\vert 0 \\rangle$ state. As explained in simulator_tutorial.ipynb, deletion will throw an error."
   ]
  },
  {
   "cell_type": "markdown",
   "metadata": {},
   "source": [
    "## Underlying mathematics"
   ]
  },
  {
   "cell_type": "markdown",
   "metadata": {},
   "source": [
    "In step 1 of the protocol, Alice's $b_1$ and Bob's $b_2$ entangled states are described by $\\frac{1}{\\sqrt{2}} \\left( \\vert 00 \\rangle + \\vert 11 \\rangle \\right)$"
   ]
  },
  {
   "cell_type": "markdown",
   "metadata": {},
   "source": [
    "Suppose $\\psi$ is in the arbitrary state $\\psi = \\alpha \\vert 0 \\rangle + \\beta \\vert 1 \\rangle$ after calling create_state(). In step 2 of the protocol, after applying CNOT on $b_1$ with $\\psi$ as the controlling bit,\n",
    "\n",
    "The joint state of $\\psi$ and $b_1$ is now described by \n",
    "$$ \\frac{1}{\\sqrt{2}} \\left[ \\alpha \\vert 0 \\rangle \\vert 00 \\rangle + \\alpha \\vert 0 \\rangle \\vert 11 \\rangle + \\beta \\vert 1\\rangle \\vert 10 \\rangle + \\beta \\vert 1 \\rangle \\vert 01 \\rangle \\right]$$"
   ]
  },
  {
   "cell_type": "markdown",
   "metadata": {},
   "source": [
    "In step 3 of the protocol, after applying the Hadamard operation on $\\psi$, $\\psi \\rightarrow \\frac{1}{\\sqrt{2}} \\left[ \\alpha \\left( \\vert 0 \\rangle + \\vert 1 \\rangle \\right) + \\beta \\left( \\vert 0 \\rangle - \\vert 1 \\rangle \\right) \\right]$ \n",
    "\n",
    "The full state (of $\\psi$, $b_1$ and $b_2$) now becomes\n",
    "$$ \\frac{1}{\\sqrt{2}} \\left[ \\alpha \\left( \\vert 0 \\rangle + \\vert 1 \\rangle \\right) \\vert  00 \\rangle + \\alpha \\left( \\vert 0 \\rangle + \\vert 1 \\rangle \\right) \\vert 11 \\rangle + \\beta \\left( \\vert 0 \\rangle - \\vert 1 \\rangle \\right) \\vert 10 \\rangle + \\beta \\left( \\vert 0 \\rangle - \\vert 1 \\rangle \\right) \\vert \\rangle 01 \\rangle \\right]$$\n",
    "\n",
    "$$ = \\frac{1}{\\sqrt{2}} \\left[ \\alpha \\vert 000 \\rangle + \\alpha \\vert 100 \\rangle + \\alpha \\vert 011 \\rangle + \\alpha \\vert 111 \\rangle + \\beta \\vert 010 \\rangle - \\beta \\vert 110 \\rangle + \\beta \\vert 001 \\rangle - \\beta \\vert 101 \\rangle \\right] $$\n",
    "\n",
    "$$ = \\frac{1}{{2}} \\left[ \\left(\\alpha \\vert 000 \\rangle + \\beta \\vert 001 \\rangle \\right) + \\left(\\alpha \\vert 011 \\rangle + \\beta \\vert 010 \\rangle \\right) + \\left(\\alpha \\vert 100 \\rangle - \\beta \\vert 101 \\rangle \\right) + \\left(\\alpha \\vert 111 \\rangle - \\beta \\vert 110 \\rangle \\right) \\right]$$\n",
    "\n",
    "$$ = \\frac{1}{{2}} \\left[ \\vert 00 \\rangle \\left(\\alpha \\vert 0 \\rangle + \\beta \\vert 1 \\rangle \\right) + \\vert 01 \\rangle \\left( \\beta \\vert 0 \\rangle + \\alpha \\vert 1 \\rangle \\right) + \\vert 10 \\rangle \\left( \\alpha \\vert 0 \\rangle - \\beta \\vert 1 \\rangle \\right) + \\vert 11 \\rangle \\left( \\alpha \\vert 1 \\rangle - \\beta \\vert 0 \\rangle \\right) \\right]$$\n",
    "\n",
    "$$ = \\frac{1}{{2}} \\left[ \\vert 00 \\rangle  \\vert \\psi \\rangle + \\vert 01 \\rangle X \\vert \\psi \\rangle + \\vert 10 \\rangle Z \\vert \\psi \\rangle + \\vert 11 \\rangle XZ \\vert \\psi \\rangle \\right]$$\n",
    "\n",
    "In step 4 of the protocol, the measured $\\psi$ and $b_1$ will be one of the four possibilities: $\\{\\vert 00 \\rangle, \\vert 01 \\rangle, \\vert 10 \\rangle, \\vert 11 \\rangle \\}$. The measured results are transmitted to Bob via classical channels.\n",
    "\n",
    "We see that Bob is getting $\\psi$ up to some unitary transform. For instance, if $\\psi$ and Alice's $b_1$ are measured to be $\\vert 01 \\rangle$, then Bob is getting $X \\vert \\psi \\rangle$. In step 5 of the protocol, Bob will proceed to apply the following operations depending on what he receives from Alice:\n",
    "\n",
    "1. $\\vert 00 \\rangle$. Bob does nothing and gets $\\psi$\n",
    "2. $\\vert 01 \\rangle$. Bob applies the X operator and gets $\\psi$\n",
    "3. $\\vert 10 \\rangle$. Bob applies the Z operator and gets $\\psi$\n",
    "4. $\\vert 11 \\rangle$. Bob applies the ZX operator and gets $\\psi$\n",
    "\n",
    "Both X and Z are unitary and symmetrical, meaning that applying these operations twice will result in identity and hence the above steps."
   ]
  },
  {
   "cell_type": "markdown",
   "metadata": {},
   "source": [
    "# References\n",
    "\n",
    "1. Charles H. Bennett, Gilles Brassard, Claude Crépeau, Richard Jozsa, Asher Peres, and William K. Wootters Phys. Rev. Lett. 70, 1895 – Published 29 March 1993\n",
    "\n",
    "2. William K Wootters and Wojciech H Zurek. A single quantum cannot be cloned. Nature, 299(5886):802–803, 1982"
   ]
  }
 ],
 "metadata": {
  "kernelspec": {
   "display_name": "projectq",
   "language": "python",
   "name": "projectq"
  },
  "language_info": {
   "codemirror_mode": {
    "name": "ipython",
    "version": 3
   },
   "file_extension": ".py",
   "mimetype": "text/x-python",
   "name": "python",
   "nbconvert_exporter": "python",
   "pygments_lexer": "ipython3",
   "version": "3.6.8"
  }
 },
 "nbformat": 4,
 "nbformat_minor": 2
}
