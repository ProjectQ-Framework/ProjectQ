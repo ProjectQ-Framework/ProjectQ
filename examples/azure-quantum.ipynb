{
 "cells": [
  {
   "cell_type": "markdown",
   "id": "2f4b2787-f008-4331-83ee-e743c64017aa",
   "metadata": {},
   "source": [
    "# Azure Quantum Backend"
   ]
  },
  {
   "cell_type": "markdown",
   "id": "2bc9b3a4-23d8-4638-b875-386295010a3d",
   "metadata": {},
   "source": [
    "## Prerequisites\n",
    "\n",
    "- An Azure account with active subcription.\n",
    "- An Azure Quantum workspace. ([How to create this?](https://docs.microsoft.com/en-us/azure/quantum/how-to-create-workspace?tabs=tabid-quick))\n",
    "- Resource ID and location of Azure Quantum workspace.\n",
    "- Install Azure Quantum dependencies for ProjectQ.\n",
    "```\n",
    "python -m pip install --user projectq[azure-quantum]\n",
    "```"
   ]
  },
  {
   "cell_type": "markdown",
   "id": "e8e87193-fc98-4718-a62d-cbbde662b82f",
   "metadata": {},
   "source": [
    "## Load Imports\n",
    "\n",
    "Run following cell to load requried imports"
   ]
  },
  {
   "cell_type": "code",
   "execution_count": null,
   "id": "a239f2e4-dcc1-4c9f-b8db-0a775a9e2863",
   "metadata": {},
   "outputs": [],
   "source": [
    "import matplotlib.pyplot as plt\n",
    "\n",
    "from projectq import MainEngine\n",
    "from projectq.ops import H, CX, All, Measure\n",
    "from projectq.cengines import BasicMapperEngine\n",
    "from projectq.backends import AzureQuantumBackend\n",
    "from projectq.libs.hist import histogram"
   ]
  },
  {
   "cell_type": "markdown",
   "id": "e98cedd2-3d13-4b81-8776-59ef74a0ca2c",
   "metadata": {},
   "source": [
    "## Initialize Azure Quantum backend\n",
    "\n",
    "Update `resource_id` and `location` of your Azure Quantum workspace in below cell and run to initialize Azure Quantum workspace.\n",
    "\n",
    "Following are valid `target_names`:\n",
    "- ionq.simulator\n",
    "- ionq.qpu\n",
    "- quantinuum.hqs-lt-s1-apival\n",
    "- quantinuum.hqs-lt-s1-sim\n",
    "- quantinuum.hqs-lt-s1\n",
    "\n",
    "Flag `use_hardware` represents wheather or not use real hardware or just a simulator. If False regardless of the value of `target_name`, simulator will be used."
   ]
  },
  {
   "cell_type": "code",
   "execution_count": null,
   "id": "7e160b42-039e-4d5b-8333-7169bc77c57f",
   "metadata": {},
   "outputs": [],
   "source": [
    "azure_quantum_backend = AzureQuantumBackend(\n",
    "    use_hardware=False,\n",
    "    target_name='ionq.simulator',\n",
    "    resource_id=\"<resource-id>\",  # resource id of workspace\n",
    "    location=\"<location>\",  # location of workspace\n",
    "    verbose=True\n",
    ")"
   ]
  },
  {
   "cell_type": "markdown",
   "id": "321876bd-dbbf-446d-9732-3627037d49f0",
   "metadata": {},
   "source": [
    "## Create ProjectQ Engine\n",
    "\n",
    "Initialize ProjectQ `MainEngine` using Azure Quantum as backend."
   ]
  },
  {
   "cell_type": "code",
   "execution_count": null,
   "id": "6fbc7650-fa8a-4047-8739-ee79aa2e6c2a",
   "metadata": {},
   "outputs": [],
   "source": [
    "mapper = BasicMapperEngine()\n",
    "max_qubits = 3\n",
    "\n",
    "mapping = {}\n",
    "for i in range(max_qubits):\n",
    "    mapping[i] = i\n",
    "\n",
    "mapper.current_mapping = mapping\n",
    "\n",
    "main_engine = MainEngine(\n",
    "    backend=azure_quantum_backend,\n",
    "    engine_list=[mapper]\n",
    ")"
   ]
  },
  {
   "cell_type": "markdown",
   "id": "d2665b04-0903-4176-b62d-b8fed5d5e041",
   "metadata": {},
   "source": [
    "## Create circuit using ProjectQ lean syntax!\n",
    "\n",
    "Allocate qubits, build circuit and measure qubits."
   ]
  },
  {
   "cell_type": "code",
   "execution_count": null,
   "id": "4a8e84c3-cf1c-44db-80f1-e0a229a38eb9",
   "metadata": {},
   "outputs": [],
   "source": [
    "circuit = main_engine.allocate_qureg(3)\n",
    "q0, q1, q2 = circuit\n",
    "\n",
    "H | q0\n",
    "CX | (q0, q1)\n",
    "CX | (q1, q2)\n",
    "All(Measure) | circuit"
   ]
  },
  {
   "cell_type": "markdown",
   "id": "4a9901e8-ed74-4859-a004-8f1b9b72dd45",
   "metadata": {},
   "source": [
    "## Run circuit and get result\n",
    "\n",
    "Flush down circuit to Azure Quantum backend and wait for results. It prints `job-id` for the reference (in case this operation timed-out). "
   ]
  },
  {
   "cell_type": "code",
   "execution_count": null,
   "id": "9af5ea10-1edc-4fe9-9d8d-c021c196779d",
   "metadata": {},
   "outputs": [],
   "source": [
    "main_engine.flush()\n",
    "\n",
    "print(azure_quantum_backend.get_probabilities(circuit))"
   ]
  },
  {
   "cell_type": "markdown",
   "id": "b7dfc230-d4fc-4460-8acb-c42ebccc1659",
   "metadata": {},
   "source": [
    "## Timed out! Re-run the circuit with retrieve_execution argument\n",
    "\n",
    "If job execution timed-out, use `retrieve_execution` argument retrive result instead of re-running the circuit. Use `job-id` from previous cell."
   ]
  },
  {
   "cell_type": "code",
   "execution_count": null,
   "id": "b05001b5-25ca-4dfd-a165-123ac7e83b38",
   "metadata": {},
   "outputs": [],
   "source": [
    "azure_quantum_backend = AzureQuantumBackend(\n",
    "    use_hardware=False,\n",
    "    target_name='ionq.simulator',\n",
    "    resource_id=\"<resource-id>\",  # resource id of workspace\n",
    "    location=\"<location>\",  # location of workspace\n",
    "    retrieve_execution=\"<job-id>\",  # job-id of Azure Quantum job\n",
    "    verbose=True\n",
    ")\n",
    "\n",
    "mapper = BasicMapperEngine()\n",
    "max_qubits = 10\n",
    "\n",
    "mapping = {}\n",
    "for i in range(max_qubits):\n",
    "    mapping[i] = i\n",
    "\n",
    "mapper.current_mapping = mapping\n",
    "\n",
    "main_engine = MainEngine(\n",
    "    backend=azure_quantum_backend,\n",
    "    engine_list=[mapper]\n",
    ")\n",
    "\n",
    "circuit = main_engine.allocate_qureg(3)\n",
    "q0, q1, q2 = circuit\n",
    "\n",
    "H | q0\n",
    "CX | (q0, q1)\n",
    "CX | (q1, q2)\n",
    "All(Measure) | circuit\n",
    "\n",
    "main_engine.flush()\n",
    "\n",
    "print(azure_quantum_backend.get_probabilities(circuit))"
   ]
  },
  {
   "cell_type": "markdown",
   "id": "b658cb79-15c8-4e25-acbd-77788af08f9e",
   "metadata": {},
   "source": [
    "# Plot Histogram\n",
    "\n",
    "Now, let's plot histogram with above result."
   ]
  },
  {
   "cell_type": "code",
   "execution_count": null,
   "id": "68b3fa8d-a06d-4049-8350-d179304bf045",
   "metadata": {},
   "outputs": [],
   "source": [
    "histogram(main_engine.backend, circuit)\n",
    "plt.show()"
   ]
  }
 ],
 "metadata": {
  "kernelspec": {
   "display_name": "Python [conda env:projectq] *",
   "language": "python",
   "name": "conda-env-projectq-py"
  },
  "language_info": {
   "codemirror_mode": {
    "name": "ipython",
    "version": 3
   },
   "file_extension": ".py",
   "mimetype": "text/x-python",
   "name": "python",
   "nbconvert_exporter": "python",
   "pygments_lexer": "ipython3",
   "version": "3.10.4"
  }
 },
 "nbformat": 4,
 "nbformat_minor": 5
}
