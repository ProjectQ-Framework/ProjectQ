{
 "cells": [
  {
   "cell_type": "markdown",
   "metadata": {},
   "source": [
    "# IonQ ProjectQ Backend Example"
   ]
  },
  {
   "cell_type": "markdown",
   "metadata": {},
   "source": [
    "This notebook will walk you through a basic example of using IonQ hardware to run ProjectQ circuits."
   ]
  },
  {
   "cell_type": "markdown",
   "metadata": {},
   "source": [
    "## Setup\n",
    "\n",
    "The only requirement to run ProjectQ circuits on IonQ hardware is an IonQ API token.\n",
    "\n",
    "Once you have acquired a token, please try out the examples in this notebook!"
   ]
  },
  {
   "cell_type": "markdown",
   "metadata": {},
   "source": [
    "## Usage & Examples\n",
    "\n",
    "\n",
    "**NOTE**: The `IonQBackend` expects an API key to be supplied via the `token` keyword argument to its constructor. If no token is directly provided, the backend will prompt you for one.\n",
    "\n",
    "The `IonQBackend` currently supports two device types:\n",
    "* `ionq_simulator`: IonQ's simulator backend.\n",
    "* `ionq_qpu`: IonQ's QPU backend.\n",
    "\n",
    "To view the latest list of available devices, you can run the `show_devices` function in the `projectq.backends._ionq._ionq_http_client` module."
   ]
  },
  {
   "cell_type": "code",
   "execution_count": null,
   "metadata": {
    "scrolled": true
   },
   "outputs": [],
   "source": [
    "# NOTE: Optional! This ignores warnings emitted from ProjectQ imports.\n",
    "import warnings\n",
    "warnings.filterwarnings('ignore')\n",
    "\n",
    "# Import ProjectQ and IonQBackend objects, the setup an engine\n",
    "import projectq.setups.ionq\n",
    "from projectq import MainEngine\n",
    "from projectq.backends import IonQBackend\n",
    "\n",
    "# REPLACE WITH YOUR API TOKEN\n",
    "token = 'your api token'\n",
    "device = 'ionq_simulator'\n",
    "\n",
    "# Create an IonQBackend\n",
    "backend = IonQBackend(\n",
    "    use_hardware=True,\n",
    "    token=token,\n",
    "    num_runs=200,\n",
    "    device=device,\n",
    ")\n",
    "\n",
    "# Make sure to get an engine_list from the ionq setup module\n",
    "engine_list = projectq.setups.ionq.get_engine_list(\n",
    "    token=token,\n",
    "    device=device,\n",
    ")\n",
    "\n",
    "# Create a ProjectQ engine\n",
    "engine = MainEngine(backend, engine_list)"
   ]
  },
  {
   "cell_type": "markdown",
   "metadata": {},
   "source": [
    "## Example — Bell Pair"
   ]
  },
  {
   "cell_type": "markdown",
   "metadata": {},
   "source": [
    "### Notes about running circuits on IonQ backends\n",
    "Circuit building and visualization should feel identical to building a circuit using any other backend with ProjectQ. \n",
    "\n",
    "That said, there are a couple of things to note when running on IonQ backends: \n",
    "    \n",
    "- IonQ backends do not allow arbitrary unitaries, mid-circuit resets or measurements, or multi-experiment jobs. In practice, this means using `reset`, `initialize`, `u` `u1`, `u2`, `u3`, `cu`, `cu1`, `cu2`, or `cu3` gates will throw an exception on submission, as will measuring mid-circuit, and submmitting jobs with multiple experiments.\n",
    "- While `barrier` is allowed for organizational and visualization purposes, the IonQ compiler does not see it as a compiler directive."
   ]
  },
  {
   "cell_type": "markdown",
   "metadata": {},
   "source": [
    "Now, let's make a simple Bell pair circuit:"
   ]
  },
  {
   "cell_type": "code",
   "execution_count": null,
   "metadata": {},
   "outputs": [],
   "source": [
    "# Import gates to apply:\n",
    "from projectq.ops import All, H, CNOT, Measure\n",
    "\n",
    "# Allocate two qubits\n",
    "circuit = engine.allocate_qureg(2)\n",
    "qubit0, qubit1 = circuit\n",
    "\n",
    "# add gates — here we're creating a simple bell pair\n",
    "H | qubit0\n",
    "CNOT | (qubit0, qubit1)\n",
    "All(Measure) | circuit"
   ]
  },
  {
   "cell_type": "markdown",
   "metadata": {},
   "source": [
    "### Run the bell pair circuit\n",
    "Now, let's run our bell pair circuit on the simulator. \n",
    "\n",
    "All that is left is to call the main engine's `flush` method:"
   ]
  },
  {
   "cell_type": "code",
   "execution_count": null,
   "metadata": {},
   "outputs": [],
   "source": [
    "# Flush the circuit, which will submit the circuit to IonQ's API for processing\n",
    "engine.flush()"
   ]
  },
  {
   "cell_type": "code",
   "execution_count": null,
   "metadata": {},
   "outputs": [],
   "source": [
    "# If all went well, we can view results from the circuit execution\n",
    "probabilities = engine.backend.get_probabilities(circuit)\n",
    "print(probabilities)"
   ]
  },
  {
   "cell_type": "markdown",
   "metadata": {},
   "source": [
    "You can also use the built-in matplotlib support to plot the histogram of results:"
   ]
  },
  {
   "cell_type": "code",
   "execution_count": null,
   "metadata": {
    "scrolled": true
   },
   "outputs": [],
   "source": [
    "# show a plot of result probabilities\n",
    "import matplotlib.pyplot as plt\n",
    "from projectq.libs.hist import histogram\n",
    "\n",
    "# Show the histogram\n",
    "histogram(engine.backend, circuit)\n",
    "plt.show()"
   ]
  },
  {
   "cell_type": "markdown",
   "metadata": {},
   "source": [
    "## Example - Bernstein-Vazirani\n",
    "\n",
    "\n",
    "For our second example, let's build a Bernstein-Vazirani circuit and run it on a real IonQ quantum computer.\n",
    "\n",
    "Rather than manually building the BV circuit every time, we'll create a method that can build one for any oracle $s$, and any register size."
   ]
  },
  {
   "cell_type": "code",
   "execution_count": null,
   "metadata": {},
   "outputs": [],
   "source": [
    "from projectq.ops import All, H, Z, CX, Measure\n",
    "\n",
    "\n",
    "def oracle(qureg, input_size, s_int):\n",
    "    \"\"\"Apply the 'oracle'.\"\"\"\n",
    "\n",
    "    s = ('{0:0' + str(input_size) + 'b}').format(s_int)\n",
    "\n",
    "    for bit in range(input_size):\n",
    "        if s[input_size - 1 - bit] == '1':\n",
    "            CX | (qureg[bit], qureg[input_size])\n",
    "\n",
    "            \n",
    "def run_bv_circuit(eng, s_int, input_size):\n",
    "    \"\"\"build the Bernstein-Vazirani circuit\n",
    "     \n",
    "    Args:\n",
    "        eng (MainEngine): A ProjectQ engine instance with an IonQBackend.\n",
    "        s_int (int): value of s, the secret bitstring, as an integer\n",
    "        input_size (int): size of the input register, \n",
    "            i.e. the number of (qu)bits to use for the binary \n",
    "            representation of s\n",
    "    \"\"\"\n",
    "    # confirm the bitstring of S is what we think it should be\n",
    "    s = ('{0:0' + str(input_size) + 'b}').format(s_int)\n",
    "    print('s: ', s)\n",
    "    \n",
    "    # We need a circuit with `input_size` qubits, plus one ancilla qubit\n",
    "    # Also need `input_size` classical bits to write the output to\n",
    "    circuit = eng.allocate_qureg(input_size + 1)\n",
    "    qubits = circuit[:-1]\n",
    "    output = circuit[input_size]\n",
    "\n",
    "    # put ancilla in state |-⟩\n",
    "    H | output\n",
    "    Z | output\n",
    "    \n",
    "    # Apply Hadamard gates before querying the oracle\n",
    "    All(H) | qubits\n",
    "    \n",
    "    # Apply the inner-product oracle\n",
    "    oracle(circuit, input_size, s_int)\n",
    "\n",
    "    # Apply Hadamard gates after querying the oracle\n",
    "    All(H) | qubits\n",
    "\n",
    "    # Measurement\n",
    "    All(Measure) | qubits\n",
    "\n",
    "    return qubits\n",
    "    "
   ]
  },
  {
   "cell_type": "markdown",
   "metadata": {},
   "source": [
    "Now let's use that method to create a BV circuit to submit:"
   ]
  },
  {
   "cell_type": "code",
   "execution_count": null,
   "metadata": {
    "scrolled": false
   },
   "outputs": [],
   "source": [
    "# Run a BV circuit:\n",
    "s_int = 3\n",
    "input_size = 3\n",
    "\n",
    "circuit = run_bv_circuit(engine, s_int, input_size)\n",
    "engine.flush()"
   ]
  },
  {
   "cell_type": "markdown",
   "metadata": {},
   "source": [
    "Time to run it on an IonQ QPU!"
   ]
  },
  {
   "cell_type": "code",
   "execution_count": null,
   "metadata": {},
   "outputs": [],
   "source": [
    "# Create an IonQBackend set to use the 'ionq_qpu' device\n",
    "device = 'ionq_qpu'\n",
    "backend = IonQBackend(\n",
    "    use_hardware=True,\n",
    "    token=token,\n",
    "    num_runs=100,\n",
    "    device=device,\n",
    ")\n",
    "\n",
    "# Make sure to get an engine_list from the ionq setup module\n",
    "engine_list = projectq.setups.ionq.get_engine_list(\n",
    "    token=token,\n",
    "    device=device,\n",
    ")\n",
    "\n",
    "# Create a ProjectQ engine\n",
    "engine = MainEngine(backend, engine_list)\n",
    "\n",
    "# Setup another BV circuit\n",
    "circuit = run_bv_circuit(engine, s_int, input_size)\n",
    "\n",
    "# Run the circuit!\n",
    "engine.flush()\n",
    "\n",
    "# Show the histogram\n",
    "histogram(engine.backend, circuit)\n",
    "plt.show()"
   ]
  },
  {
   "cell_type": "markdown",
   "metadata": {},
   "source": [
    "Because QPU time is a limited resource, QPU jobs are handled in a queue and may take a while to complete. The IonQ backend accounts for this delay by providing basic attributes which may be used to tweak the behavior of the backend while it waits on job results: "
   ]
  },
  {
   "cell_type": "code",
   "execution_count": null,
   "metadata": {},
   "outputs": [],
   "source": [
    "# Create an IonQ backend with custom job fetch/wait settings\n",
    "backend = IonQBackend(\n",
    "    token=token,\n",
    "    device=device,\n",
    "    num_runs=100,\n",
    "    use_hardware=True,\n",
    "    # Number of times to check for results before giving up\n",
    "    num_retries=3000,\n",
    "    # The number of seconds to wait between attempts\n",
    "    interval=1,\n",
    ")"
   ]
  }
 ],
 "metadata": {
  "kernelspec": {
   "name": "python379jvsc74a57bd083bb9cfe1c33ba3c1386f3a99c53663f4ea55973353f0ef3c6be0ff58dd42d14",
   "display_name": "Python 3.7.9 64-bit ('projectq': pyenv)"
  },
  "language_info": {
   "codemirror_mode": {
    "name": "ipython",
    "version": 3
   },
   "file_extension": ".py",
   "mimetype": "text/x-python",
   "name": "python",
   "nbconvert_exporter": "python",
   "pygments_lexer": "ipython3",
   "version": "3.7.9"
  }
 },
 "nbformat": 4,
 "nbformat_minor": 4
}
