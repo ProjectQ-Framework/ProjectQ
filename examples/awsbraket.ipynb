{
 "metadata": {
  "language_info": {
   "codemirror_mode": {
    "name": "ipython",
    "version": 3
   },
   "file_extension": ".py",
   "mimetype": "text/x-python",
   "name": "python",
   "nbconvert_exporter": "python",
   "pygments_lexer": "ipython3",
   "version": "3.7.9"
  },
  "orig_nbformat": 2,
  "kernelspec": {
   "name": "python3",
   "display_name": "Python 3.7.9 64-bit",
   "metadata": {
    "interpreter": {
     "hash": "fd69f43f58546b570e94fd7eba7b65e6bcc7a5bbc4eab0408017d18902915d69"
    }
   }
  }
 },
 "nbformat": 4,
 "nbformat_minor": 2,
 "cells": [
  {
   "source": [
    "# ProjectQ Example\n",
    "## Compiling code for AWS Braket Service\n",
    "\n",
    "AWS Braket devices supported: Simulator 'SV1', Rigetti 'Aspen-8' and IonQ device 'IonQ'\n",
    "\n",
    "You need to have a valid AWS account and created a pair of access key/secret key, and have activated the braket service, therefore a specific S3 bucket and folder associated to the service should be configured.\n",
    "\n",
    "First the usual imports"
   ],
   "cell_type": "markdown",
   "metadata": {}
  },
  {
   "cell_type": "code",
   "execution_count": null,
   "metadata": {},
   "outputs": [],
   "source": [
    "from projectq import MainEngine\n",
    "from projectq.backends import AWSBraketBackend\n",
    "from projectq.ops import Measure, H, C, X, All\n"
   ]
  },
  {
   "source": [
    "Configure the credentials, the S3 folder and the device to be used"
   ],
   "cell_type": "markdown",
   "metadata": {}
  },
  {
   "cell_type": "code",
   "execution_count": null,
   "metadata": {},
   "outputs": [],
   "source": [
    "creds = ['AWS_ACCESS_KEY', 'AWS_SECRET_KEY'] # replace with your Access key and Secret key\n",
    "\n",
    "s3_folder = ['S3Bucket', 'S3Directory'] # replace with your S3 bucket and directory\n",
    "\n",
    "device = 'SV1' # replace by the device you want to use"
   ]
  },
  {
   "source": [
    "Configure the engine"
   ],
   "cell_type": "markdown",
   "metadata": {}
  },
  {
   "cell_type": "code",
   "execution_count": null,
   "metadata": {},
   "outputs": [],
   "source": [
    "\n",
    "eng = MainEngine(AWSBraketBackend(use_hardware=False, credentials=creds, s3_folder=s3_folder, num_runs=10, interval=10),engine_list=[])"
   ]
  },
  {
   "source": [
    "Create the circuit"
   ],
   "cell_type": "markdown",
   "metadata": {}
  },
  {
   "cell_type": "code",
   "execution_count": null,
   "metadata": {},
   "outputs": [],
   "source": [
    "    qureg = eng.allocate_qureg(3)\n",
    "    # entangle the qureg\n",
    "    H | qureg[0]\n",
    "    H | qureg[1]\n",
    "    C(X) | (qureg[1], qureg[2])\n",
    "    C(X) | (qureg[0], qureg[1])\n",
    "    H | qureg[0]\n",
    "    C(X) | (qureg[1], qureg[2])\n",
    "    # measure; should be all-0 or all-1\n",
    "    All(Measure) | qureg\n",
    "    # run the circuit\n",
    "    eng.flush()\n"
   ]
  },
  {
   "source": [
    "Get the probabilities"
   ],
   "cell_type": "markdown",
   "metadata": {}
  },
  {
   "cell_type": "code",
   "execution_count": null,
   "metadata": {},
   "outputs": [],
   "source": [
    "prob_dict = eng.backend.get_probabilities(qureg)\n",
    "print(\"Probabilites for each of the results: \", prob_dict)"
   ]
  },
  {
   "source": [
    "We can retrieve the result later on (of this job or a previously executed one) using the Task Arn provided when it was run. You have to remember the ammount of qubits involved in the job and the order you used."
   ],
   "cell_type": "markdown",
   "metadata": {}
  },
  {
   "cell_type": "code",
   "execution_count": null,
   "metadata": {},
   "outputs": [],
   "source": [
    "\n",
    "task_arn = 'your_task_arn' # replace with the actual TaskArn you wnat to use\n",
    "eng1 = MainEngine(AWSBraketBackend(retrieve_execution=task_arn, credentials=creds, num_retries=2, verbose=True), engine_list=[])\n",
    "\n",
    "qureg1 = eng1.allocate_qureg(3)\n",
    "eng1.flush()\n",
    "\n",
    "prob_dict1 = eng1.backend.get_probabilities(qureg1)\n",
    "print(\"Probabilities \", prob_dict1)\n"
   ]
  },
  {
   "source": [
    "Plot the histogram with the probabilities"
   ],
   "cell_type": "markdown",
   "metadata": {}
  },
  {
   "cell_type": "code",
   "execution_count": null,
   "metadata": {},
   "outputs": [],
   "source": [
    "import matplotlib.pyplot as plt\n",
    "%matplotlib inline\n",
    "from projectq.libs.hist import histogram\n",
    "\n",
    "histogram(eng1.backend, qureg1)\n",
    "plt.show()"
   ]
  },
  {
   "cell_type": "code",
   "execution_count": null,
   "metadata": {},
   "outputs": [],
   "source": []
  }
 ]
}