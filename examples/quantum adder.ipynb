{
 "cells": [
  {
   "cell_type": "markdown",
   "metadata": {},
   "source": [
    "## Quantum adder"
   ]
  },
  {
   "cell_type": "code",
   "execution_count": 1,
   "metadata": {},
   "outputs": [],
   "source": [
    "from projectq import MainEngine\n",
    "from projectq.backends import CircuitDrawer\n",
    "from projectq.ops import X, CNOT, Measure, All, ControlledGate\n",
    "\n",
    "def qsum_(c, a, b):\n",
    "    CNOT|(a, b)  # CNOT (control bit, target bit)\n",
    "    CNOT|(c, b)\n",
    "    return b       # b -> b' = a+b+c mod 2"
   ]
  },
  {
   "cell_type": "markdown",
   "metadata": {},
   "source": [
    "<img src=\"Images/sum.png\" width=300>"
   ]
  },
  {
   "cell_type": "code",
   "execution_count": 2,
   "metadata": {},
   "outputs": [],
   "source": [
    "def qcarry_(eng, a, b, c):\n",
    "    ancilla = eng.allocate_qubit()\n",
    "    ControlledGate(X,2) | (a,b,ancilla) # ControlledGate(gate, 2) | (qb0, qb2, qb3), qb0 & qb2 are controls\n",
    "    CNOT|(a,b)\n",
    "    ControlledGate(X,2) | (c,b,ancilla)\n",
    "    return (c,a,b,ancilla)  # (carry, a, a+b mod 2, next carry)\n",
    "                            # a+b mod 2 can be uncomputed using CNOT"
   ]
  },
  {
   "cell_type": "markdown",
   "metadata": {},
   "source": [
    "<img src=\"Images/carry.png\" width=300>"
   ]
  },
  {
   "cell_type": "code",
   "execution_count": 3,
   "metadata": {},
   "outputs": [],
   "source": [
    "def qadd_(eng, qureg_A, qureg_B):\n",
    "    assert len(qureg_A)==len(qureg_B)\n",
    "    n=len(qureg_A)\n",
    "    carries = [None for i in range(n+1)]\n",
    "    carries[0] = eng.allocate_qubit()\n",
    "    for i in range(n):\n",
    "        _, _, _, carries[i+1] = qcarry_(eng,qureg_A[i],qureg_B[i],carries[i])\n",
    "        CNOT|(qureg_A[i],qureg_B[i])      # uncompute a+b mod 2 to b\n",
    "        qsum_(carries[i],qureg_A[i],qureg_B[i])\n",
    "        \n",
    "    All(Measure)|qureg_B # less significant bits\n",
    "    Measure|carries[n]   # most significant bit\n",
    "    eng.flush()\n",
    "    \n",
    "    result = ''\n",
    "    for bit in qureg_B:\n",
    "        result += str(int(bit))\n",
    "    result += str(int(carries[n]))\n",
    "    return result[::-1] # reverse"
   ]
  }
 ],
 "metadata": {
  "kernelspec": {
   "display_name": "Python 3",
   "language": "python",
   "name": "python3"
  },
  "language_info": {
   "codemirror_mode": {
    "name": "ipython",
    "version": 3
   },
   "file_extension": ".py",
   "mimetype": "text/x-python",
   "name": "python",
   "nbconvert_exporter": "python",
   "pygments_lexer": "ipython3",
   "version": "3.7.2"
  }
 },
 "nbformat": 4,
 "nbformat_minor": 2
}
